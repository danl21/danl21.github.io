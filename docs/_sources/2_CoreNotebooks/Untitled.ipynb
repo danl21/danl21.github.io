{
 "cells": [
  {
   "cell_type": "markdown",
   "id": "9f9aeb21",
   "metadata": {},
   "source": [
    "## Solve a transcendental equation\n",
    "\n",
    "Solve\n",
    "\n",
    "$$ x = \\cos(x) $$\n",
    "\n",
    "for $x$"
   ]
  },
  {
   "cell_type": "code",
   "execution_count": 43,
   "id": "10f213f1",
   "metadata": {},
   "outputs": [
    {
     "data": {
      "text/latex": [
       "$\\displaystyle \\left\\{x\\; \\middle|\\; x \\in \\mathbb{R} \\wedge x - \\cos{\\left(x \\right)} = 0 \\right\\}$"
      ],
      "text/plain": [
       "ConditionSet(x, Eq(x - cos(x), 0), Reals)"
      ]
     },
     "execution_count": 43,
     "metadata": {},
     "output_type": "execute_result"
    }
   ],
   "source": [
    "import sympy as sym\n",
    "\n",
    "x = sym.symbols((\"x\"))\n",
    "\n",
    "Q = x-sym.cos(x)\n",
    "I = sym.solveset(Q,domain = sym.Reals)\n",
    "I"
   ]
  },
  {
   "cell_type": "code",
   "execution_count": 36,
   "id": "22440033",
   "metadata": {},
   "outputs": [
    {
     "data": {
      "image/png": "[encoded data removed]",
      "text/plain": [
       "<Figure size 432x288 with 1 Axes>"
      ]
     },
     "metadata": {
      "needs_background": "light"
     },
     "output_type": "display_data"
    }
   ],
   "source": [
    "import numpy as np\n",
    "import matplotlib.pyplot as plt\n",
    "\n",
    "x = np.linspace(0.735,0.74)\n",
    "\n",
    "def f(x):\n",
    "    return x-np.cos(x)\n",
    "\n",
    "plt.plot(x,f(x))\n",
    "plt.grid()\n",
    "plt.show()"
   ]
  },
  {
   "cell_type": "code",
   "execution_count": 37,
   "id": "1d8af086",
   "metadata": {},
   "outputs": [
    {
     "data": {
      "text/plain": [
       "-0.00014247729458616298"
      ]
     },
     "execution_count": 37,
     "metadata": {},
     "output_type": "execute_result"
    }
   ],
   "source": [
    "xguess = 0.739\n",
    "f(xguess)"
   ]
  },
  {
   "cell_type": "code",
   "execution_count": 38,
   "id": "ed280e4a",
   "metadata": {},
   "outputs": [
    {
     "name": "stdout",
     "output_type": "stream",
     "text": [
      "-0.0018156567171687676 0.0015314412704120484\n",
      "0.739 -0.00014247729458616298\n"
     ]
    }
   ],
   "source": [
    "x1 = 0.738\n",
    "x2 = 0.74\n",
    "\n",
    "print(f(x1),f(x2))\n",
    "\n",
    "x3 = 0.5*(x1+x2)\n",
    "\n",
    "print(x3,f(x3))"
   ]
  },
  {
   "cell_type": "code",
   "execution_count": 41,
   "id": "c36c874e",
   "metadata": {},
   "outputs": [
    {
     "name": "stdout",
     "output_type": "stream",
     "text": [
      "47 0.7390851332151609 4.440892098500626e-16\n"
     ]
    }
   ],
   "source": [
    "x1 = 0.5\n",
    "x2 = 1.0\n",
    "\n",
    "for i in range(50):\n",
    "    x3 = 0.5*(x1+x2)\n",
    "    if(np.abs(f(x3))<1.e-15):\n",
    "        print(i,x3,f(x3))\n",
    "        break\n",
    "    elif(f(x3)<0):\n",
    "        x1 = x3\n",
    "    else:\n",
    "        x2 = x3\n"
   ]
  },
  {
   "cell_type": "code",
   "execution_count": 42,
   "id": "946cb4b5",
   "metadata": {},
   "outputs": [
    {
     "data": {
      "image/png": "[encoded data removed]",
      "text/plain": [
       "<Figure size 432x288 with 1 Axes>"
      ]
     },
     "metadata": {
      "needs_background": "light"
     },
     "output_type": "display_data"
    }
   ],
   "source": [
    "plt.plot(x,f(x))\n",
    "plt.plot(x3,f(x3),'o')\n",
    "plt.grid()\n",
    "plt.show()"
   ]
  },
  {
   "cell_type": "code",
   "execution_count": null,
   "id": "aa5d9562",
   "metadata": {},
   "outputs": [],
   "source": []
  }
 ],
 "metadata": {
  "kernelspec": {
   "display_name": "Python 3 (ipykernel)",
   "language": "python",
   "name": "python3"
  },
  "language_info": {
   "codemirror_mode": {
    "name": "ipython",
    "version": 3
   },
   "file_extension": ".py",
   "mimetype": "text/x-python",
   "name": "python",
   "nbconvert_exporter": "python",
   "pygments_lexer": "ipython3",
   "version": "3.11.0"
  }
 },
 "nbformat": 4,
 "nbformat_minor": 5
}
